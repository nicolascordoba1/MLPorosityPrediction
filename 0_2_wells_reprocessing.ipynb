{
 "cells": [
  {
   "cell_type": "markdown",
   "metadata": {},
   "source": [
    "# Import libraries"
   ]
  },
  {
   "cell_type": "code",
   "execution_count": 1,
   "metadata": {},
   "outputs": [],
   "source": [
    "import pandas as pd\n",
    "import lasio\n",
    "import numpy as np\n",
    "import segyio\n",
    "import matplotlib.pyplot as plt"
   ]
  },
  {
   "cell_type": "markdown",
   "metadata": {},
   "source": [
    "# Load Data"
   ]
  },
  {
   "cell_type": "code",
   "execution_count": 2,
   "metadata": {},
   "outputs": [],
   "source": [
    "ccs2_porosity = lasio.read('data/data_decatur/wells/ccs2.las')\n",
    "vw2_porosity = lasio.read('data/data_decatur/wells/vw2.las')"
   ]
  },
  {
   "cell_type": "markdown",
   "metadata": {},
   "source": [
    "# Seismic Processing"
   ]
  },
  {
   "cell_type": "code",
   "execution_count": null,
   "metadata": {},
   "outputs": [],
   "source": [
    "ccs2_segy_file = 'data/data_decatur/wells/ccs2.segy'\n",
    "with segyio.open(ccs2_segy_file, \"r\", strict=False) as ccs2_segy:\n",
    "    print(\"Number of traces:\", ccs2_segy.tracecount)\n",
    "    print(\"Length of each trace:\", ccs2_segy.samples.size)\n",
    "    print(\"Range of depth (ft):\", ccs2_segy.samples[0], \"-\", ccs2_segy.samples[-1])\n",
    "    # Read all traces as a NumPy array\n",
    "    traces_ccs2 = ccs2_segy.trace.raw[:]\n",
    "    \n",
    "    # Compute the average of all traces\n",
    "    ccs2_average_trace = np.mean(traces_ccs2, axis=0)\n",
    "    \n",
    "    print(\"Shape of traces array:\", traces_ccs2.shape)\n",
    "    print(\"Shape of averaged trace:\", ccs2_average_trace.shape)\n",
    "\n",
    "# Create a plot\n",
    "plt.figure(figsize=(12, 6))\n",
    "\n",
    "# Plot all traces as background\n",
    "for trace_ccs2 in traces_ccs2:\n",
    "    plt.plot(trace_ccs2, color=\"gray\", alpha=0.2, linewidth=0.5)  # Background traces with transparency\n",
    "\n",
    "# Overlay the averaged trace\n",
    "plt.plot(ccs2_average_trace, color=\"red\", linewidth=2, label=\"Averaged Trace\")\n",
    "\n",
    "# Add labels and legend\n",
    "plt.title(\"All Traces with Averaged Trace Overlay\")\n",
    "plt.xlabel(\"Samples\")\n",
    "plt.ylabel(\"Amplitude\")\n",
    "plt.ylim([-7000, 7000])\n",
    "plt.legend()\n",
    "plt.grid(True)\n",
    "\n",
    "# Show the plot\n",
    "plt.show()"
   ]
  },
  {
   "cell_type": "code",
   "execution_count": null,
   "metadata": {},
   "outputs": [],
   "source": [
    "vw2_segy_file = 'data/data_decatur/wells/vw2.segy'\n",
    "with segyio.open(vw2_segy_file, \"r\", strict=False) as vw2_segy:\n",
    "    # Acceder a las cabeceras y dimensiones\n",
    "    print(\"Number of traces:\", vw2_segy.tracecount)\n",
    "    print(\"Length of each trace:\", vw2_segy.samples.size)\n",
    "    print(\"Range of depth (ft):\", vw2_segy.samples[0], \"-\", vw2_segy.samples[-1])\n",
    "    # Read all traces as a NumPy array\n",
    "    traces_vw2 = vw2_segy.trace.raw[:]\n",
    "    \n",
    "    # Compute the average of all traces\n",
    "    vw2_average_trace = np.mean(traces_vw2, axis=0)\n",
    "    \n",
    "    print(\"Shape of traces array:\", traces_vw2.shape)\n",
    "    print(\"Shape of averaged trace:\", vw2_average_trace.shape)\n",
    "\n",
    "# Create a plot\n",
    "plt.figure(figsize=(12, 6))\n",
    "\n",
    "# Plot all traces as background\n",
    "for trace_vw2 in traces_vw2:\n",
    "    plt.plot(trace_vw2, color=\"gray\", alpha=0.2, linewidth=0.5)  # Background traces with transparency\n",
    "\n",
    "# Overlay the averaged trace\n",
    "plt.plot(vw2_average_trace, color=\"red\", linewidth=2, label=\"Averaged Trace\")\n",
    "\n",
    "# Add labels and legend\n",
    "plt.title(\"All Traces with Averaged Trace Overlay\")\n",
    "plt.xlabel(\"Samples\")\n",
    "plt.ylabel(\"Amplitude\")\n",
    "plt.ylim([-7000, 7000])\n",
    "plt.legend()\n",
    "plt.grid(True)\n",
    "\n",
    "# Show the plot\n",
    "plt.show()"
   ]
  },
  {
   "cell_type": "code",
   "execution_count": null,
   "metadata": {},
   "outputs": [],
   "source": [
    "plt.plot(vw2_average_trace, color=\"red\", linewidth=2, label=\"VW2 Averaged Trace\")\n",
    "plt.plot(ccs2_average_trace, color=\"blue\", linewidth=2, label=\"CCS2 Averaged Trace\")\n",
    "plt.legend()"
   ]
  },
  {
   "cell_type": "code",
   "execution_count": 6,
   "metadata": {},
   "outputs": [],
   "source": [
    "vw2_average_trace = vw2_average_trace[4:-12]\n",
    "ccs2_average_trace = ccs2_average_trace[4:-11]"
   ]
  },
  {
   "cell_type": "code",
   "execution_count": null,
   "metadata": {},
   "outputs": [],
   "source": [
    "vw2_average_trace.shape, ccs2_average_trace.shape"
   ]
  },
  {
   "cell_type": "markdown",
   "metadata": {},
   "source": [
    "# Logs Processing"
   ]
  },
  {
   "cell_type": "code",
   "execution_count": null,
   "metadata": {},
   "outputs": [],
   "source": [
    "df_ccs2_las = ccs2_porosity.df()\n",
    "df_ccs2_las = df_ccs2_las.dropna()\n",
    "df_ccs2_las = df_ccs2_las.iloc[3:-8]\n",
    "df_ccs2_las.shape"
   ]
  },
  {
   "cell_type": "code",
   "execution_count": null,
   "metadata": {},
   "outputs": [],
   "source": [
    "df_ccs2_las"
   ]
  },
  {
   "cell_type": "code",
   "execution_count": null,
   "metadata": {},
   "outputs": [],
   "source": [
    "df_vw2_las = vw2_porosity.df()\n",
    "df_vw2_las = df_vw2_las.dropna()\n",
    "df_vw2_las = df_vw2_las.iloc[:-9]\n",
    "df_vw2_las.shape"
   ]
  },
  {
   "cell_type": "code",
   "execution_count": null,
   "metadata": {},
   "outputs": [],
   "source": [
    "df_vw2_las"
   ]
  },
  {
   "cell_type": "code",
   "execution_count": 12,
   "metadata": {},
   "outputs": [],
   "source": [
    "seismic_well = np.column_stack((ccs2_average_trace, vw2_average_trace))\n",
    "porosity_well = np.column_stack((df_ccs2_las['EFFECTIVEPOROSITYPIGN'], df_vw2_las['EFFECTIVEPOROSITYPIGN']))"
   ]
  },
  {
   "cell_type": "code",
   "execution_count": 13,
   "metadata": {},
   "outputs": [],
   "source": [
    "seismic_well = np.swapaxes(seismic_well,0,1)\n",
    "porosity_well = np.swapaxes(porosity_well,0,1)"
   ]
  },
  {
   "cell_type": "code",
   "execution_count": 14,
   "metadata": {},
   "outputs": [],
   "source": [
    "seismic_well = seismic_well.reshape(-1,86,1,1)\n",
    "porosity_well = porosity_well.reshape(-1,86,1,1)"
   ]
  },
  {
   "cell_type": "code",
   "execution_count": null,
   "metadata": {},
   "outputs": [],
   "source": [
    "seismic_well.shape, porosity_well.shape"
   ]
  },
  {
   "cell_type": "markdown",
   "metadata": {},
   "source": [
    "# Export Data"
   ]
  },
  {
   "cell_type": "code",
   "execution_count": 16,
   "metadata": {},
   "outputs": [],
   "source": [
    "np.save('data/data_decatur/processed/well_seismic.npy', seismic_well)\n",
    "np.save('data/data_decatur/processed/well_porosity.npy', porosity_well)"
   ]
  }
 ],
 "metadata": {
  "kernelspec": {
   "display_name": ".tesisenv",
   "language": "python",
   "name": "python3"
  },
  "language_info": {
   "codemirror_mode": {
    "name": "ipython",
    "version": 3
   },
   "file_extension": ".py",
   "mimetype": "text/x-python",
   "name": "python",
   "nbconvert_exporter": "python",
   "pygments_lexer": "ipython3",
   "version": "3.9.20"
  }
 },
 "nbformat": 4,
 "nbformat_minor": 2
}
