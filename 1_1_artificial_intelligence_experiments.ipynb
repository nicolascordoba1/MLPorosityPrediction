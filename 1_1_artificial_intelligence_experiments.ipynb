{
 "cells": [
  {
   "cell_type": "markdown",
   "metadata": {},
   "source": [
    "# Import Libraries"
   ]
  },
  {
   "cell_type": "code",
   "execution_count": null,
   "metadata": {},
   "outputs": [],
   "source": [
    "import numpy as np\n",
    "import pandas as pd\n",
    "import matplotlib.pyplot as plt\n",
    "from matplotlib.ticker import FormatStrFormatter\n",
    "from utils_experiments import *\n",
    "\n",
    "import tensorflow as tf\n",
    "\n",
    "from sklearn.linear_model import LinearRegression\n",
    "from sklearn.metrics import r2_score, mean_squared_error, mean_absolute_error\n",
    "\n",
    "import tensorflow as tf\n",
    "from tensorflow.keras.layers import Conv1D, Activation, Dense, Flatten\n",
    "from keras import initializers\n",
    "from tensorflow.keras.metrics import R2Score"
   ]
  },
  {
   "cell_type": "code",
   "execution_count": 2,
   "metadata": {},
   "outputs": [],
   "source": [
    "# Set the plot style\n",
    "plt.style.use('seaborn-v0_8-bright')  # Or any other style you prefer\n",
    "\n",
    "# Update rcParams for font, figure size, and other settings\n",
    "plt.rcParams.update({\n",
    "    'font.family': 'serif',        # Use serif fonts\n",
    "    'font.serif': ['Times New Roman'],  # Specifically Times New Roman\n",
    "    'font.size': 12,              # Font size for all text\n",
    "    'axes.labelsize': 14,         # Axis label size\n",
    "    'axes.titlesize': 16,         # Title size\n",
    "    'xtick.labelsize': 12,        # x-axis tick label size\n",
    "    'ytick.labelsize': 12,        # y-axis tick label size\n",
    "    'legend.fontsize': 12,        # Legend font size\n",
    "    'figure.figsize': [6, 4],     # Aspect ratio\n",
    "    'savefig.dpi': 300,           # High-resolution output for saving\n",
    "})"
   ]
  },
  {
   "cell_type": "markdown",
   "metadata": {},
   "source": [
    "# Load Data"
   ]
  },
  {
   "cell_type": "code",
   "execution_count": 3,
   "metadata": {},
   "outputs": [],
   "source": [
    "porosity = np.load('data/data_vashisth/porosity_data.npy')\n",
    "seismic = np.load('data/data_vashisth/seismic_data.npy')"
   ]
  },
  {
   "cell_type": "code",
   "execution_count": null,
   "metadata": {},
   "outputs": [],
   "source": [
    "porosity.shape, seismic.shape"
   ]
  },
  {
   "cell_type": "code",
   "execution_count": 5,
   "metadata": {},
   "outputs": [],
   "source": [
    "dt=7e-4\n",
    "end_time=0.172\n",
    "time_upscaled = np.arange(0, end_time, dt)\n",
    "diffDepth = 1\n",
    "depth = np.arange(1,porosity.shape[1]+1)*diffDepth"
   ]
  },
  {
   "cell_type": "code",
   "execution_count": null,
   "metadata": {},
   "outputs": [],
   "source": [
    "fig, ax = plt.subplots(1,6, figsize=(15,5))\n",
    "\n",
    "ax[0].plot(np.squeeze(porosity[1,:]), depth)\n",
    "ax[0].invert_yaxis()\n",
    "ax[0].set_ylabel('Depth [m]')\n",
    "ax[0].set_xlabel('Porosity [v/v]')\n",
    "\n",
    "\n",
    "ax[1].plot(np.squeeze(seismic[1,:]), time_upscaled)\n",
    "ax[1].invert_yaxis()\n",
    "ax[1].set_ylabel('Time [s]')\n",
    "ax[1].set_xlabel('Seismic')\n",
    "\n",
    "ax[2].plot(np.squeeze(porosity[10,:]), depth)\n",
    "ax[2].invert_yaxis()\n",
    "ax[2].set_ylabel('Depth [m]')\n",
    "ax[2].set_xlabel('Porosity [v/v]')\n",
    "\n",
    "\n",
    "ax[3].plot(np.squeeze(seismic[10,:]), time_upscaled)\n",
    "ax[3].invert_yaxis()\n",
    "ax[3].set_ylabel('Time [s]')\n",
    "ax[3].set_xlabel('Seismic')\n",
    "\n",
    "ax[4].plot(np.squeeze(porosity[100,:]), depth)\n",
    "ax[4].invert_yaxis()\n",
    "ax[4].set_ylabel('Depth [m]')\n",
    "ax[4].set_xlabel('Porosity [v/v]')\n",
    "\n",
    "\n",
    "ax[5].plot(np.squeeze(seismic[100,:]), time_upscaled)\n",
    "ax[5].invert_yaxis()\n",
    "ax[5].set_ylabel('Time [s]')\n",
    "ax[5].set_xlabel('Seismic')\n",
    "\n",
    "\n",
    "#fig.suptitle('Porosidad vs Sísmica')\n",
    "fig.tight_layout()\n",
    "fig.savefig('plots/vashisth_example.eps', format='eps')"
   ]
  },
  {
   "cell_type": "markdown",
   "metadata": {},
   "source": [
    "# Data Wrangling\n",
    "## Depth to time domain conversion"
   ]
  },
  {
   "cell_type": "code",
   "execution_count": null,
   "metadata": {},
   "outputs": [],
   "source": [
    "Kg = 0.06\n",
    "Kw = 2.61\n",
    "RHOw = 1.01\n",
    "RHOg = 0.18 \n",
    "diffP = 16.5 \n",
    "RHOs = 2.65\n",
    "PhiC = 0.4 \n",
    "Coordination = 14 \n",
    "Fudge = 1\n",
    "diffDepth = 20\n",
    "vclay=tf.cast(0,tf.float64)\n",
    "sw=tf.cast(1,tf.float64)\n",
    "Kf = 1/(sw/Kw + (1 - sw)/Kg)\n",
    "RHOf = sw*RHOw + (1 - sw) * RHOg\n"
   ]
  },
  {
   "cell_type": "code",
   "execution_count": 8,
   "metadata": {},
   "outputs": [],
   "source": [
    "def SoftSandNew(Kf,RHOf,Phi,Quartz,Clay,Feldspar,Limestone,Dolomite,Pressure,PhiC,Coordination,Fudge):\n",
    "    # Uncemented sand rock physics model (modified to implement automatic-differentiation)\n",
    "    #               INPUTS\n",
    "    #\n",
    "    #Kf\t\t\t\tFluid bulk modulus\n",
    "    #RHOf\t\t\tFluid density\n",
    "    #Phi\t\t\tPorosity (fraction)\n",
    "    #Quartz, etc.\tVolume mineral content in solid phase (fraction)\n",
    "    #Pressure\t\tEffective pressure (MPa)\n",
    "    #PhiC\t\t\tCritical porosity ~0.4\n",
    "    #Coordination\tCoordination number ~6\n",
    "    #Fudge\t\t\tReduction in shear stiffness -- 1 by default\n",
    "    #\n",
    "    #a is the contact radius between two spheres at input pressure\n",
    "\n",
    "    #Balancing mineralogy\n",
    "    Dolomite=1-(Quartz+Clay+Feldspar+Limestone)\n",
    "    \n",
    "    #Constants for clay\n",
    "    RHOClay=2.65 \n",
    "    KClay=21 \n",
    "    GClay=7\n",
    "    #Solid-phase elastic moduli\n",
    "    KsV=Quartz*36.6+Clay*KClay+Limestone*76.8+Dolomite*94.9+Feldspar*75.6\n",
    "    KsR=1/(Quartz/36.6+Clay/KClay+Limestone/76.8+Dolomite/94.9+Feldspar/75.6)\n",
    "    Ks=0.5*(KsV+KsR)\n",
    "    \n",
    "    GsV=Quartz*45+Clay*GClay+Limestone*32+Dolomite*45+Feldspar*25.6\n",
    "    GsR=1/(Quartz/45+Clay/GClay+Limestone/32+Dolomite/45+Feldspar/25.6)\n",
    "    Gs=0.5*(GsV+GsR)\n",
    "    Ms=Ks+(4/3)*Gs\n",
    "    NUs=0.5*(Ms/Gs-2)/(Ms/Gs-1)\n",
    "    \n",
    "    #Solid-phase density\n",
    "    RHOs=Quartz*2.65+Clay*RHOClay+Limestone*2.71+Dolomite*2.87+Feldspar*2.63\n",
    "    \n",
    "    #ILLITE\n",
    "    #RHOs=2.58; Ms=RHOs.*4.32.*4.32; Gs=RHOs.*2.54.*2.54; NUs=0.5*(Ms./Gs-2)./(Ms./Gs-1); Ks=Ms-(4/3)*Gs;\n",
    "    \n",
    "    P=Pressure/1000\n",
    "    C=Coordination\n",
    "    \n",
    "    #================== Dry Rock ====================\n",
    "    #Effective K and G at PhiC\n",
    "    #Hertz contact radius (R=1)\n",
    "    a=tf.pow(((3*3.14*(1-NUs)/(2*C*(1-PhiC)*Gs))*P),(1/3))\n",
    "    #Normal contact stiffness\n",
    "    SN=4*a*Gs/(1-NUs)\n",
    "    #Shear contact stiffness\n",
    "    ST=8*a*Gs/(2-NUs)\n",
    "    #Shear contact stiffness FUDGED (reduced)\n",
    "    ST=ST/Fudge\n",
    "    \n",
    "    #Bulk modulus\n",
    "    Khat=C*(1.-PhiC)*SN/(12*3.14)\n",
    "    #Shear modulus\n",
    "    Ghat=C*(1.-PhiC)*(SN+1.5*ST)/(20*3.14)\n",
    "    \n",
    "    #Effective bulk and shear moduli at porosity Phi<=PhiC\n",
    "    KDry1=1/((Phi/PhiC)/(Khat+4*Ghat/3)+((PhiC-Phi)/PhiC)/(Ks+4*Ghat/3))-4*Ghat/3\n",
    "    ZZ1=(Ghat/6)*(9*Khat+8*Ghat)/(Khat+2*Ghat)\n",
    "    GDry1=1/((Phi/PhiC)/(Ghat+ZZ1)+((PhiC-Phi)/PhiC)/(Gs+ZZ1))-ZZ1\n",
    "    MDry1 = KDry1+(4/3)*GDry1\n",
    "    NuDry1=0.5*(MDry1/GDry1-2)/(MDry1/GDry1-1)\n",
    "    \n",
    "    #Effective bulk and shear moduli at porosity Phi>PhiC\n",
    "    KDry2 = 1/(((1-Phi)/(1-PhiC))/(Khat+4*Ghat/3)+((Phi-PhiC)/(1-PhiC))/(4*Ghat/3))-4*Ghat/3\n",
    "    ZZ2 = (Ghat/6)*(9*Khat+8*Ghat)/(Khat+2*Ghat)\n",
    "    GDry2 = 1/(((1-Phi)/(1-PhiC))/(Ghat+ZZ2)+((Phi-PhiC)/(1-PhiC))/(ZZ2))-ZZ2\n",
    "    MDry2 = KDry2+(4/3)*GDry2\n",
    "    NuDry2=0.5*(MDry2/GDry2-2)/(MDry2/GDry2-1)\n",
    "    \n",
    "    MDry=MDry1*(tf.cast((Phi<=PhiC), tf.float64))+MDry2*(tf.cast((Phi>PhiC), tf.float64)) \n",
    "    GDry=GDry1*(tf.cast((Phi<=PhiC), tf.float64))+GDry2*(tf.cast((Phi>PhiC), tf.float64))\n",
    "    NuDry=NuDry1*(tf.cast((Phi<=PhiC), tf.float64))+NuDry2*(tf.cast((Phi>PhiC), tf.float64))\n",
    "    KDry=MDry-(4/3)*GDry\n",
    "    \n",
    "    # ================== Saturated Rock ============\n",
    "    KSat=Ks*(Phi*KDry-(1+Phi)*Kf*KDry/Ks+Kf)/((1-Phi)*Kf+Phi*Ks-Kf*KDry/Ks)\n",
    "    MSat=KSat+(4/3)*GDry\n",
    "    RHOB=(1-Phi)*RHOs+Phi*RHOf\n",
    "    Vp=tf.pow((MSat/RHOB),0.5)\n",
    "    Vs=tf.pow((GDry/RHOB),0.5)\n",
    "    Ip=Vp*RHOB\n",
    "    PR=0.5*(MSat/GDry-2)/(MSat/GDry-1)\n",
    "    \n",
    "    return Vp,Vs,RHOB"
   ]
  },
  {
   "cell_type": "code",
   "execution_count": 9,
   "metadata": {},
   "outputs": [],
   "source": [
    "def DecoderLinearInterpLayer(x,xp,fp):\n",
    "    i = tf.clip_by_value(tf.searchsorted(xp, x, side='right'), 1, xp.shape[1] - 1)\n",
    "\n",
    "    fp1=tf.gather(fp,indices=i-1, batch_dims=1)\n",
    "    fp2=tf.gather(fp,indices=i, batch_dims=1)\n",
    "    xp1=tf.gather(xp,indices=i-1, batch_dims=1)\n",
    "    xp2=tf.gather(xp,indices=i, batch_dims=1)\n",
    "\n",
    "    f = (fp1 *  (xp2 - x) + fp2 * (x - xp1)) / (xp2 - xp1)\n",
    "\n",
    "    left=fp[0,0]\n",
    "    right = fp[-1,-1]\n",
    "\n",
    "    ff = tf.where(x < tf.ones_like(x)*tf.expand_dims(xp[:,0],axis=1), left, f)\n",
    "    fff = tf.where(x > tf.ones_like(x)*tf.expand_dims(xp[:,-1],axis=1), tf.ones_like(x)*tf.expand_dims(fp[:,-1],axis=1), ff)\n",
    "    return fff"
   ]
  },
  {
   "cell_type": "code",
   "execution_count": 10,
   "metadata": {},
   "outputs": [],
   "source": [
    "Vp_final,Vs_final,RHO_final=SoftSandNew(Kf,RHOf,porosity,(1 - vclay)*0.8,vclay, (1 - vclay)*0.2,0,0,diffP, PhiC, Coordination, Fudge)\n",
    "\n",
    "depth_diff = np.mean(np.diff(depth.T))\n",
    "time0=0.0/(Vp_final[:,0])\n",
    "time1 = 2*tf.cumsum(depth_diff/(Vp_final*1e3),axis=1)\n",
    "time_final = tf.concat([tf.expand_dims(time0, axis=1),time1],axis=1)\n",
    "time = time_final[:,0:-1]\n",
    "\n",
    "time_new=tf.ones_like(time, dtype=tf.float64)\n",
    "for i in range(len(time_upscaled)-time.shape[1]):\n",
    "    time_new=tf.concat([time_new,tf.expand_dims(time0+1.0,axis=1)],axis=1)\n",
    "pred_t=time_new*time_upscaled\n",
    "\n",
    "Phi_time=DecoderLinearInterpLayer(pred_t,time,porosity)\n",
    "RHO_time=DecoderLinearInterpLayer(pred_t,time,RHO_final)\n"
   ]
  },
  {
   "cell_type": "markdown",
   "metadata": {},
   "source": [
    "## First visualization of data"
   ]
  },
  {
   "cell_type": "code",
   "execution_count": null,
   "metadata": {},
   "outputs": [],
   "source": [
    "seed_og = 318 #np.random.randint(0,2500)\n",
    "trace_porosity = Phi_time[seed_og,:]\n",
    "trace_seismic = seismic[seed_og,:]\n",
    "seed_og"
   ]
  },
  {
   "cell_type": "code",
   "execution_count": null,
   "metadata": {},
   "outputs": [],
   "source": [
    "fig, ax = plt.subplots(1,2, figsize=(8,5))\n",
    "\n",
    "ax[0].plot(np.squeeze(trace_porosity), time_upscaled)\n",
    "ax[0].invert_yaxis()\n",
    "ax[0].set_ylabel('Time [s]')\n",
    "ax[0].set_xlabel('Porosity [v/v]')\n",
    "\n",
    "\n",
    "ax[1].plot(np.squeeze(trace_seismic), time_upscaled)\n",
    "ax[1].invert_yaxis()\n",
    "ax[1].set_ylabel('Time [s]')\n",
    "ax[1].set_xlabel('Seismic')\n",
    "\n",
    "fig.tight_layout()"
   ]
  },
  {
   "cell_type": "code",
   "execution_count": null,
   "metadata": {},
   "outputs": [],
   "source": [
    "fig, ax = plt.subplots(1,1)\n",
    "\n",
    "ax.scatter(trace_seismic, trace_porosity, edgecolor='black', linewidth=0.5)\n",
    "ax.set_xlabel('Seismic [v/v]')\n",
    "ax.set_ylabel('Porosity')\n",
    "\n",
    "fig.savefig('plots/vashisth_crossplot_correlation.eps', format='eps')"
   ]
  },
  {
   "cell_type": "code",
   "execution_count": 14,
   "metadata": {},
   "outputs": [],
   "source": [
    "phi_time_numpy = Phi_time.numpy()"
   ]
  },
  {
   "cell_type": "markdown",
   "metadata": {},
   "source": [
    "## Normalization of data"
   ]
  },
  {
   "cell_type": "code",
   "execution_count": 15,
   "metadata": {},
   "outputs": [],
   "source": [
    "def min_max_scale(x, min, max):\n",
    "\n",
    "  x_std = (x - min) / (max - min)\n",
    "  x_scaled = x_std * 2 - 1\n",
    "  return x_scaled\n",
    "\n",
    "def inverse_min_max_scale(x, min, max):\n",
    "\n",
    "  x_normalized = (x + 1) / 2\n",
    "  x_unscaled = x_normalized * (max - min) + min\n",
    "  return x_unscaled"
   ]
  },
  {
   "cell_type": "markdown",
   "metadata": {},
   "source": [
    "### Porosity"
   ]
  },
  {
   "cell_type": "code",
   "execution_count": 16,
   "metadata": {},
   "outputs": [],
   "source": [
    "phi_max=np.max(phi_time_numpy)\n",
    "phi_min=np.min(phi_time_numpy)"
   ]
  },
  {
   "cell_type": "code",
   "execution_count": 17,
   "metadata": {},
   "outputs": [],
   "source": [
    "phi_scaled = min_max_scale(phi_time_numpy, min= phi_min, max=phi_max)\n",
    "phi_unscaled = inverse_min_max_scale(phi_scaled, min= phi_min, max=phi_max)"
   ]
  },
  {
   "cell_type": "code",
   "execution_count": null,
   "metadata": {},
   "outputs": [],
   "source": [
    "plt.figure(figsize=(10, 8))\n",
    "plt.hist(phi_time_numpy.ravel(), bins=30, edgecolor='black', color='#43a2ca')\n",
    "# Add titles and labels\n",
    "plt.title('Distribution of Porosity', fontsize=16, fontweight='bold')\n",
    "plt.xlabel('Porosity [v/v]', fontsize=14)\n",
    "plt.ylabel('Frequency', fontsize=14)\n",
    "\n",
    "# Add grid lines\n",
    "plt.grid(axis='y', linestyle='--', alpha=0.9)\n",
    "\n",
    "# Customize ticks\n",
    "plt.xticks(fontsize=12)\n",
    "plt.yticks(fontsize=12)\n",
    "\n",
    "# Add a text box annotation\n",
    "textstr = 'Mean: {:.2f}\\nStd Dev: {:.2f}'.format(np.mean(phi_time_numpy.ravel()), np.std(phi_time_numpy.ravel()))\n",
    "plt.gca().text(0.95, 0.95, textstr, transform=plt.gca().transAxes,\n",
    "               fontsize=12, verticalalignment='top',\n",
    "               bbox=dict(boxstyle='round,pad=0.3', edgecolor='black', facecolor='lightgray'))\n",
    "\n",
    "plt.show()"
   ]
  },
  {
   "cell_type": "code",
   "execution_count": null,
   "metadata": {},
   "outputs": [],
   "source": [
    "plt.figure(figsize=(10, 8))\n",
    "plt.hist(phi_scaled.ravel(), bins=30, edgecolor='black', color='#43a2ca')\n",
    "# Add titles and labels\n",
    "plt.title('Distribution of Normalized Porosity', fontsize=16, fontweight='bold')\n",
    "plt.xlabel('Porosity [unitless]', fontsize=14)\n",
    "plt.ylabel('Frequency', fontsize=14)\n",
    "\n",
    "# Add grid lines\n",
    "plt.grid(axis='y', linestyle='--', alpha=0.9)\n",
    "\n",
    "# Customize ticks\n",
    "plt.xticks(fontsize=12)\n",
    "plt.yticks(fontsize=12)\n",
    "\n",
    "# Add a text box annotation\n",
    "textstr = 'Mean: {:.2f}\\nStd Dev: {:.2f}'.format(np.mean(phi_scaled.ravel()), np.std(phi_scaled.ravel()))\n",
    "plt.gca().text(0.95, 0.95, textstr, transform=plt.gca().transAxes,\n",
    "               fontsize=12, verticalalignment='top',\n",
    "               bbox=dict(boxstyle='round,pad=0.3', edgecolor='black', facecolor='lightgray'))\n",
    "\n",
    "plt.show()"
   ]
  },
  {
   "cell_type": "markdown",
   "metadata": {},
   "source": [
    "### Seismic"
   ]
  },
  {
   "cell_type": "code",
   "execution_count": 20,
   "metadata": {},
   "outputs": [],
   "source": [
    "# Normalizing the input and output data  \n",
    "seis_normalized = (seismic - np.min(seismic))/(np.max(seismic)-np.min(seismic))"
   ]
  },
  {
   "cell_type": "code",
   "execution_count": null,
   "metadata": {},
   "outputs": [],
   "source": [
    "plt.figure(figsize=(10, 8))\n",
    "plt.hist(seis_normalized.ravel(), bins=30, edgecolor='black', color='#43a2ca')\n",
    "# Add titles and labels\n",
    "plt.title('Distribution of Normalized Seismic', fontsize=16, fontweight='bold')\n",
    "plt.xlabel('Seismic [unitless]', fontsize=14)\n",
    "plt.ylabel('Frequency', fontsize=14)\n",
    "\n",
    "# Add grid lines\n",
    "plt.grid(axis='y', linestyle='--', alpha=0.9)\n",
    "\n",
    "# Customize ticks\n",
    "plt.xticks(fontsize=12)\n",
    "plt.yticks(fontsize=12)\n",
    "\n",
    "# Add a text box annotation\n",
    "textstr = 'Mean: {:.2f}\\nStd Dev: {:.2f}'.format(np.mean(seis_normalized.ravel()), np.std(seis_normalized.ravel()))\n",
    "plt.gca().text(0.95, 0.95, textstr, transform=plt.gca().transAxes,\n",
    "               fontsize=12, verticalalignment='top',\n",
    "               bbox=dict(boxstyle='round,pad=0.3', edgecolor='black', facecolor='lightgray'))\n",
    "\n",
    "# Show plot\n",
    "plt.savefig('./plots/normalized_seismic_distribution.eps', format='eps')\n",
    "plt.show()"
   ]
  },
  {
   "cell_type": "code",
   "execution_count": null,
   "metadata": {},
   "outputs": [],
   "source": [
    "plt.figure(figsize=(10, 8))\n",
    "plt.hist(seismic.ravel(), bins=30, edgecolor='black', color='#43a2ca')\n",
    "# Add titles and labels\n",
    "plt.title('Distribution of Seismic', fontsize=16, fontweight='bold')\n",
    "plt.xlabel('Seismic [unitless]', fontsize=14)\n",
    "plt.ylabel('Frequency', fontsize=14)\n",
    "\n",
    "# Add grid lines\n",
    "plt.grid(axis='y', linestyle='--', alpha=0.9)\n",
    "\n",
    "# Customize ticks\n",
    "plt.xticks(fontsize=12)\n",
    "plt.yticks(fontsize=12)\n",
    "\n",
    "# Add a text box annotation\n",
    "textstr = 'Mean: {:.2f}\\nStd Dev: {:.2f}'.format(np.mean(seismic.ravel()), np.std(seismic.ravel()))\n",
    "plt.gca().text(0.95, 0.95, textstr, transform=plt.gca().transAxes,\n",
    "               fontsize=12, verticalalignment='top',\n",
    "               bbox=dict(boxstyle='round,pad=0.3', edgecolor='black', facecolor='lightgray'))\n",
    "\n",
    "# Show plot\n",
    "plt.savefig('./plots/seismic_distribution.eps', format='eps')\n",
    "plt.show()"
   ]
  },
  {
   "cell_type": "code",
   "execution_count": null,
   "metadata": {},
   "outputs": [],
   "source": [
    "np.min(seis_normalized), np.max(seis_normalized)"
   ]
  },
  {
   "cell_type": "code",
   "execution_count": null,
   "metadata": {},
   "outputs": [],
   "source": [
    "np.min(phi_scaled), np.max(phi_scaled)"
   ]
  },
  {
   "cell_type": "code",
   "execution_count": null,
   "metadata": {},
   "outputs": [],
   "source": [
    "seismic.shape, phi_scaled.shape"
   ]
  },
  {
   "cell_type": "markdown",
   "metadata": {},
   "source": [
    "## Traind and test split"
   ]
  },
  {
   "cell_type": "code",
   "execution_count": 26,
   "metadata": {},
   "outputs": [],
   "source": [
    "X_train_norm = seis_normalized[:1750, :]\n",
    "y_train_norm = phi_scaled[:1750, :]\n",
    "X_test_norm = seis_normalized[1750:, :]\n",
    "y_test_norm = phi_scaled[1750:, :]"
   ]
  },
  {
   "cell_type": "code",
   "execution_count": 27,
   "metadata": {},
   "outputs": [],
   "source": [
    "X_train = seismic[:1750, :]\n",
    "y_train = phi_time_numpy[:1750, :]\n",
    "X_test = seismic[1750:, :]\n",
    "y_test = phi_time_numpy[1750:, :]"
   ]
  },
  {
   "cell_type": "code",
   "execution_count": null,
   "metadata": {},
   "outputs": [],
   "source": [
    "X_train.shape, X_test.shape, y_train.shape, y_test.shape"
   ]
  },
  {
   "cell_type": "markdown",
   "metadata": {},
   "source": [
    "### Reshape\n",
    "\n",
    "This reshape is done to train algorithms such as DecisionTree, XGBoost and MLP using all the data"
   ]
  },
  {
   "cell_type": "code",
   "execution_count": 29,
   "metadata": {},
   "outputs": [],
   "source": [
    "X_train_reshaped = X_train.reshape(-1,1)\n",
    "X_test_reshaped = X_test.reshape(-1,1)\n",
    "\n",
    "y_train_reshaped = y_train.reshape(-1,1)\n",
    "y_test_reshaped = y_test.reshape(-1,1)"
   ]
  },
  {
   "cell_type": "code",
   "execution_count": null,
   "metadata": {},
   "outputs": [],
   "source": [
    "X_train_reshaped.shape, X_test_reshaped.shape, y_train_reshaped.shape, y_test_reshaped.shape"
   ]
  },
  {
   "cell_type": "markdown",
   "metadata": {},
   "source": [
    "# Machine Learning"
   ]
  },
  {
   "cell_type": "markdown",
   "metadata": {},
   "source": [
    "## Linear Regression"
   ]
  },
  {
   "cell_type": "code",
   "execution_count": 31,
   "metadata": {},
   "outputs": [],
   "source": [
    "lin_reg = LinearRegression().fit(trace_seismic.reshape(-1,1), trace_porosity)"
   ]
  },
  {
   "cell_type": "code",
   "execution_count": 32,
   "metadata": {},
   "outputs": [],
   "source": [
    "y_pred_linear = lin_reg.predict(trace_seismic.reshape(-1,1))"
   ]
  },
  {
   "cell_type": "code",
   "execution_count": 33,
   "metadata": {},
   "outputs": [],
   "source": [
    "line_x = np.array([-0.2, 0.2])\n",
    "line_y = lin_reg.predict(line_x.reshape(-1,1))"
   ]
  },
  {
   "cell_type": "markdown",
   "metadata": {},
   "source": [
    "### Metrics"
   ]
  },
  {
   "cell_type": "code",
   "execution_count": null,
   "metadata": {},
   "outputs": [],
   "source": [
    "rmse_rl = np.sqrt(mean_squared_error(trace_porosity, y_pred_linear))\n",
    "MAE_rl = mean_absolute_error(trace_porosity, y_pred_linear)\n",
    "trace_porosity = trace_porosity.numpy()\n",
    "r2_rl = r2_score(trace_porosity, y_pred_linear)\n",
    "\n",
    "print(\"RMSE : % f\" %(rmse_rl))\n",
    "print(\"MAE : % f\" %(MAE_rl))\n",
    "print(\"R2 : % f\" %(r2_rl))"
   ]
  },
  {
   "cell_type": "code",
   "execution_count": null,
   "metadata": {},
   "outputs": [],
   "source": [
    "print(f'y = {lin_reg.coef_[0]:3.3}x + {lin_reg.intercept_:3.3}')"
   ]
  },
  {
   "cell_type": "markdown",
   "metadata": {},
   "source": [
    "### Plot"
   ]
  },
  {
   "cell_type": "code",
   "execution_count": null,
   "metadata": {},
   "outputs": [],
   "source": [
    "fig, ax = plt.subplots(1,1)\n",
    "\n",
    "ax.scatter(trace_seismic, trace_porosity, edgecolor='black', linewidth=0.5)\n",
    "ax.plot(line_x, line_y, color='red', linewidth=2, label='Linear Regression')\n",
    "# Add textbox with R2\n",
    "textstr = rf\"$R^2 = {r2_rl:.3f}$\"\n",
    "props = dict(boxstyle='round', facecolor='white', alpha=0.8)\n",
    "\n",
    "ax.text(0.05, 0.95, textstr, transform=ax.transAxes, fontsize=14,\n",
    "        verticalalignment='top', bbox=props)\n",
    "\n",
    "# Add legend\n",
    "legend = ax.legend(loc='upper right', fontsize='small')\n",
    "legend.get_frame().set_facecolor('white')\n",
    "legend.get_frame().set_alpha(1)\n",
    "\n",
    "ax.set_xlabel('Seismic ')\n",
    "ax.set_ylabel('Porosity [v/v]')\n",
    "\n",
    "fig.savefig('plots/vashisth_crossplot_regression.eps', format='eps')"
   ]
  },
  {
   "cell_type": "code",
   "execution_count": null,
   "metadata": {},
   "outputs": [],
   "source": [
    "fig, ax = plt.subplots(1,2, figsize=(8,5), sharey=True)\n",
    "\n",
    "ax[0].plot(np.squeeze(trace_porosity), time_upscaled, label='Real Porosity', color='black')\n",
    "ax[0].plot(np.squeeze(y_pred_linear), time_upscaled, label='Model Porosity', linestyle='--', color='red')\n",
    "ax[0].invert_yaxis()\n",
    "ax[0].set_xlabel('Porosity [v/v]')\n",
    "ax[0].set_ylabel('Time [s]')\n",
    "\n",
    "\n",
    "ax[1].plot(np.squeeze(trace_seismic), time_upscaled)\n",
    "ax[1].set_xlabel('Seismic')\n",
    "\n",
    "ax[0].legend(loc='upper center',    bbox_to_anchor=(0.5, 1.2))\n",
    "fig.tight_layout()\n",
    "fig.savefig('plots/resultado_regresion_lineal_seccion.eps', format='eps')"
   ]
  },
  {
   "cell_type": "markdown",
   "metadata": {},
   "source": [
    "## Quadratic Regression"
   ]
  },
  {
   "cell_type": "code",
   "execution_count": 38,
   "metadata": {},
   "outputs": [],
   "source": [
    "from sklearn.preprocessing import PolynomialFeatures"
   ]
  },
  {
   "cell_type": "code",
   "execution_count": 39,
   "metadata": {},
   "outputs": [],
   "source": [
    "poly = PolynomialFeatures(degree=2, include_bias=False)"
   ]
  },
  {
   "cell_type": "code",
   "execution_count": null,
   "metadata": {},
   "outputs": [],
   "source": [
    "poly_features = poly.fit_transform(trace_seismic.reshape(-1, 1))\n",
    "poly_reg_model = LinearRegression()\n",
    "poly_reg_model.fit(poly_features, trace_porosity)"
   ]
  },
  {
   "cell_type": "markdown",
   "metadata": {},
   "source": [
    "### Metrics"
   ]
  },
  {
   "cell_type": "code",
   "execution_count": 41,
   "metadata": {},
   "outputs": [],
   "source": [
    "y_predicted_quadratic = poly_reg_model.predict(poly_features)"
   ]
  },
  {
   "cell_type": "code",
   "execution_count": null,
   "metadata": {},
   "outputs": [],
   "source": [
    "rmse_quadratic = np.sqrt(mean_squared_error(trace_porosity, y_predicted_quadratic))\n",
    "MAE_quadratic = mean_absolute_error(trace_porosity, y_predicted_quadratic)\n",
    "r2_quadratic = r2_score(trace_porosity, y_predicted_quadratic)\n",
    "\n",
    "print(\"RMSE : % f\" %(rmse_quadratic))\n",
    "print(\"MAE : % f\" %(MAE_quadratic))\n",
    "print(\"R2 : % f\" %(r2_quadratic))"
   ]
  },
  {
   "cell_type": "markdown",
   "metadata": {},
   "source": [
    "### Plot"
   ]
  },
  {
   "cell_type": "code",
   "execution_count": null,
   "metadata": {},
   "outputs": [],
   "source": [
    "fig, ax = plt.subplots(1,1)\n",
    "\n",
    "ax.scatter(trace_seismic, trace_porosity, edgecolor='black', linewidth=0.5)\n",
    "ax.plot(trace_seismic, y_predicted_quadratic, color='red', linewidth=2, label='Quadratic Regression')\n",
    "\n",
    "textstr = rf\"$R^2 = {r2_quadratic:.3f}$\"\n",
    "props = dict(boxstyle='round', facecolor='white', alpha=0.8)\n",
    "\n",
    "ax.text(0.05, 0.95, textstr, transform=ax.transAxes, fontsize=14,\n",
    "        verticalalignment='top', bbox=props)\n",
    "\n",
    "\n",
    "legend = ax.legend(loc='upper right', fontsize='small')\n",
    "legend.get_frame().set_facecolor('white')\n",
    "legend.get_frame().set_alpha(1)\n",
    "\n",
    "ax.set_xlabel('Seismic ')\n",
    "ax.set_ylabel('Porosity [v/v]')\n",
    "\n",
    "ax.xaxis.set_major_formatter(FormatStrFormatter('%.2f'))\n",
    "ax.yaxis.set_major_formatter(FormatStrFormatter('%.2f'))\n",
    "\n",
    "fig.savefig('plots/vashisth_crossplot_quadratic.eps', format='eps')"
   ]
  },
  {
   "cell_type": "markdown",
   "metadata": {},
   "source": [
    "## Decision Tree"
   ]
  },
  {
   "cell_type": "markdown",
   "metadata": {},
   "source": [
    "### 1 trace test"
   ]
  },
  {
   "cell_type": "code",
   "execution_count": 44,
   "metadata": {},
   "outputs": [],
   "source": [
    "from sklearn.tree import DecisionTreeRegressor, plot_tree\n",
    "from sklearn import tree"
   ]
  },
  {
   "cell_type": "code",
   "execution_count": 45,
   "metadata": {},
   "outputs": [],
   "source": [
    "dtr = DecisionTreeRegressor()\n",
    "dtr_controled = DecisionTreeRegressor(min_samples_leaf=10)"
   ]
  },
  {
   "cell_type": "code",
   "execution_count": null,
   "metadata": {},
   "outputs": [],
   "source": [
    "dtr.fit(trace_seismic.reshape(-1, 1), trace_porosity)\n",
    "dtr_controled.fit(trace_seismic.reshape(-1, 1), trace_porosity)"
   ]
  },
  {
   "cell_type": "code",
   "execution_count": 47,
   "metadata": {},
   "outputs": [],
   "source": [
    "y_pred_tree_dtr_train = dtr.predict(trace_seismic.reshape(-1, 1))"
   ]
  },
  {
   "cell_type": "code",
   "execution_count": null,
   "metadata": {},
   "outputs": [],
   "source": [
    "rmse_dtr_train = np.sqrt(mean_squared_error(trace_porosity, y_pred_tree_dtr_train))\n",
    "MAE_dtr_train = mean_absolute_error(trace_porosity, y_pred_tree_dtr_train)\n",
    "r2_dtr_train = r2_score(trace_porosity, y_pred_tree_dtr_train)\n",
    "\n",
    "print(\"RMSE : % f\" %(rmse_dtr_train))\n",
    "print(\"MAE : % f\" %(MAE_dtr_train))\n",
    "print(\"R2 : % f\" %(r2_dtr_train))"
   ]
  },
  {
   "cell_type": "markdown",
   "metadata": {},
   "source": [
    "#### Metrics - Blind Test"
   ]
  },
  {
   "cell_type": "code",
   "execution_count": null,
   "metadata": {},
   "outputs": [],
   "source": [
    "seed_test = 1409 #np.random.randint(0,2500)\n",
    "trace_porosity_test = Phi_time[seed_test,:]\n",
    "trace_seismic_test = seismic[seed_test,:]\n",
    "seed_test"
   ]
  },
  {
   "cell_type": "code",
   "execution_count": 50,
   "metadata": {},
   "outputs": [],
   "source": [
    "y_pred_tree_test = dtr.predict(trace_seismic_test.reshape(-1, 1))\n",
    "y_pred_tree_test_controled = dtr_controled.predict(trace_seismic_test.reshape(-1, 1))"
   ]
  },
  {
   "cell_type": "code",
   "execution_count": null,
   "metadata": {},
   "outputs": [],
   "source": [
    "rmse_dtr_test_1well = np.sqrt(mean_squared_error(trace_porosity_test, y_pred_tree_test))\n",
    "MAE_dtr_test_1well = mean_absolute_error(trace_porosity_test, y_pred_tree_test)\n",
    "trace_porosity_test=trace_porosity_test.numpy()\n",
    "r2_dtr_test_1well = r2_score(trace_porosity_test, y_pred_tree_test)\n",
    "\n",
    "print(\"RMSE : % f\" %(rmse_dtr_test_1well))\n",
    "print(\"MAE : % f\" %(MAE_dtr_test_1well))\n",
    "print(\"R2 : % f\" %(r2_dtr_test_1well))"
   ]
  },
  {
   "cell_type": "code",
   "execution_count": null,
   "metadata": {},
   "outputs": [],
   "source": [
    "rmse_dtr_test_1well_depth5 = np.sqrt(mean_squared_error(trace_porosity_test, y_pred_tree_test_controled))\n",
    "mae_dtr_test_1well_depth5 = mean_absolute_error(trace_porosity_test, y_pred_tree_test_controled)\n",
    "\n",
    "r2_dtr_test_1well_depth5 = r2_score(trace_porosity_test, y_pred_tree_test_controled)\n",
    "\n",
    "print(\"RMSE : % f\" %(rmse_dtr_test_1well_depth5))\n",
    "print(\"MAE : % f\" %(mae_dtr_test_1well_depth5))\n",
    "print(\"R2 : % f\" %(r2_dtr_test_1well_depth5))"
   ]
  },
  {
   "cell_type": "markdown",
   "metadata": {},
   "source": [
    "#### Plot"
   ]
  },
  {
   "cell_type": "code",
   "execution_count": null,
   "metadata": {},
   "outputs": [],
   "source": [
    "fig, ax = plt.subplots(1,2, figsize=(8,8), sharey=True, sharex=True)\n",
    "\n",
    "ax[0].plot(np.squeeze(trace_porosity), time_upscaled, label='Real Porosity', color='black')\n",
    "ax[0].plot(np.squeeze(y_pred_tree_dtr_train), time_upscaled, label='Model Porosity', linestyle='--', color='red')\n",
    "ax[0].set_ylabel('Time [s]')\n",
    "ax[0].invert_yaxis()\n",
    "ax[0].set_title('Train Data')\n",
    "\n",
    "\n",
    "ax[1].plot(np.squeeze(trace_porosity_test), time_upscaled, label='Real Porosity', color='black')\n",
    "ax[1].plot(np.squeeze(y_pred_tree_test), time_upscaled, label='Model Porosity', linestyle='--', color='red')\n",
    "ax[1].set_title('Test Data')\n",
    "\n",
    "fig.text(0.5, 0.07, 'Porosity [v/v]', ha='center', va='center')\n",
    "\n",
    "ax[1].legend(loc='lower center')\n",
    "\n",
    "fig.savefig('plots/dt_1_trace.eps', format='eps')"
   ]
  },
  {
   "cell_type": "code",
   "execution_count": null,
   "metadata": {},
   "outputs": [],
   "source": [
    "params = dtr.get_params()\n",
    "max_depth = dtr.get_depth()\n",
    "n_leaves = dtr.get_n_leaves()\n",
    "\n",
    "print(\"Model Parameters:\", params)\n",
    "print(\"Max depth reached:\", max_depth)\n",
    "print(\"Number of leaves:\", n_leaves)"
   ]
  },
  {
   "cell_type": "code",
   "execution_count": null,
   "metadata": {},
   "outputs": [],
   "source": [
    "# Obtener los parámetros y metadatos\n",
    "params = dtr_controled.get_params()\n",
    "max_depth = dtr_controled.get_depth()\n",
    "n_leaves = dtr_controled.get_n_leaves()\n",
    "\n",
    "print(\"Model Parameters:\", params)\n",
    "print(\"Max depth reached:\", max_depth)\n",
    "print(\"Number of leaves:\", n_leaves)"
   ]
  },
  {
   "cell_type": "code",
   "execution_count": null,
   "metadata": {},
   "outputs": [],
   "source": [
    "plt.figure(figsize=(20, 10)) \n",
    "plot_tree(dtr, filled=True, fontsize=10)\n",
    "plt.savefig('plots/decision_tree.eps', format='eps')\n",
    "plt.show()"
   ]
  },
  {
   "cell_type": "markdown",
   "metadata": {},
   "source": [
    "### All dataset test"
   ]
  },
  {
   "cell_type": "code",
   "execution_count": null,
   "metadata": {},
   "outputs": [],
   "source": [
    "dtr_full = DecisionTreeRegressor()\n",
    "dtr_full.fit(X_train_reshaped, y_train_reshaped)"
   ]
  },
  {
   "cell_type": "code",
   "execution_count": 58,
   "metadata": {},
   "outputs": [],
   "source": [
    "y_pred_train = dtr_full.predict(X_train_reshaped)\n",
    "y_pred_test = dtr_full.predict(X_test_reshaped)"
   ]
  },
  {
   "cell_type": "markdown",
   "metadata": {},
   "source": [
    "#### Metrics"
   ]
  },
  {
   "cell_type": "code",
   "execution_count": null,
   "metadata": {},
   "outputs": [],
   "source": [
    "rmse_dtr_train = np.sqrt(mean_squared_error(y_train_reshaped, y_pred_train))\n",
    "MAE_dtr_train = mean_absolute_error(y_train_reshaped, y_pred_train)\n",
    "r2_dtr_train = r2_score(y_train_reshaped, y_pred_train)\n",
    "\n",
    "print(\"RMSE : % f\" %(rmse_dtr_train))\n",
    "print(\"MAE : % f\" %(MAE_dtr_train))\n",
    "print(\"R2 : % f\" %(r2_dtr_train))"
   ]
  },
  {
   "cell_type": "code",
   "execution_count": null,
   "metadata": {},
   "outputs": [],
   "source": [
    "rmse_dtr_test = np.sqrt(mean_squared_error(y_test_reshaped, y_pred_test))\n",
    "MAE_dtr_test = mean_absolute_error(y_test_reshaped, y_pred_test)\n",
    "r2_dtr_test = r2_score(y_test_reshaped, y_pred_test)\n",
    "\n",
    "print(\"RMSE : % f\" %(rmse_dtr_test))\n",
    "print(\"MAE : % f\" %(MAE_dtr_test))\n",
    "print(\"R2 : % f\" %(r2_dtr_test))"
   ]
  },
  {
   "cell_type": "markdown",
   "metadata": {},
   "source": [
    "#### Plot"
   ]
  },
  {
   "cell_type": "code",
   "execution_count": 61,
   "metadata": {},
   "outputs": [],
   "source": [
    "y_pred_train_reshaped = y_pred_train.reshape(1750, 246)\n",
    "y_pred_test_reshaped = y_pred_test.reshape(750, 246)"
   ]
  },
  {
   "cell_type": "code",
   "execution_count": null,
   "metadata": {},
   "outputs": [],
   "source": [
    "fig, ax = plt.subplots(1,2, figsize=(8,8), sharey=True, sharex=True)\n",
    "\n",
    "ax[0].set_title('Train Data')\n",
    "ax[0].plot(np.squeeze(y_train[354,:]), time_upscaled, label='Real Porosity', color='black')\n",
    "ax[0].plot(np.squeeze(y_pred_train_reshaped[354,:]), time_upscaled, label='Model Porosity', linestyle='--', color='red')\n",
    "ax[0].set_ylabel('Time [s]')\n",
    "ax[0].invert_yaxis()\n",
    "\n",
    "ax[1].set_title('Test Data')\n",
    "ax[1].plot(np.squeeze(y_test[256,:]), time_upscaled, label='Real Porosity', color='black')\n",
    "ax[1].plot(np.squeeze(y_pred_test_reshaped[256,:]), time_upscaled, label='Model Porosity', linestyle='--', color='red')\n",
    "\n",
    "fig.text(0.5, 0.07, 'Porosity [v/v]', ha='center', va='center')\n",
    "\n",
    "ax[1].legend(loc='lower left',bbox_to_anchor=(1, 0.5))\n",
    "\n",
    "fig.savefig('plots/dt_results.eps', format='eps')"
   ]
  },
  {
   "cell_type": "code",
   "execution_count": null,
   "metadata": {},
   "outputs": [],
   "source": [
    "params = dtr_full.get_params()\n",
    "max_depth = dtr_full.get_depth()\n",
    "n_leaves = dtr_full.get_n_leaves()\n",
    "\n",
    "print(\"Model parameters:\", params)\n",
    "print(\"Max depth reached:\", max_depth)\n",
    "print(\"Number of leaves:\", n_leaves)"
   ]
  },
  {
   "cell_type": "markdown",
   "metadata": {},
   "source": [
    "## XGBoost"
   ]
  },
  {
   "cell_type": "code",
   "execution_count": 64,
   "metadata": {},
   "outputs": [],
   "source": [
    "import xgboost as xg \n",
    "from sklearn.model_selection import RandomizedSearchCV"
   ]
  },
  {
   "cell_type": "code",
   "execution_count": 65,
   "metadata": {},
   "outputs": [],
   "source": [
    "xgb_r = xg.XGBRegressor(seed=123)\n",
    "\n",
    "param_dist = {\n",
    "    'max_depth': [3, 6, 9],\n",
    "    'learning_rate': [0.01, 0.05, 0.1],\n",
    "    'n_estimators': [100, 300, 500, 1000],\n",
    "    'subsample': [0.7, 0.8, 0.9],\n",
    "    'colsample_bytree': [0.7, 0.8, 0.9],\n",
    "    'booster': ['gbtree', 'dart']\n",
    "}\n",
    "\n",
    "random_search = RandomizedSearchCV(estimator=xgb_r, \n",
    "                                   param_distributions=param_dist, \n",
    "                                   scoring='neg_mean_squared_error', \n",
    "                                   n_iter=10, \n",
    "                                   cv=3, \n",
    "                                   verbose=1)\n",
    "\n"
   ]
  },
  {
   "cell_type": "code",
   "execution_count": null,
   "metadata": {},
   "outputs": [],
   "source": [
    "xgb_r.fit(X_train_reshaped, y_train_reshaped)"
   ]
  },
  {
   "cell_type": "code",
   "execution_count": 67,
   "metadata": {},
   "outputs": [],
   "source": [
    "pred_xgboost = xgb_r.predict(X_test_reshaped)"
   ]
  },
  {
   "cell_type": "markdown",
   "metadata": {},
   "source": [
    "### Metrics"
   ]
  },
  {
   "cell_type": "code",
   "execution_count": null,
   "metadata": {},
   "outputs": [],
   "source": [
    "rmse_xgboost = np.sqrt(mean_squared_error(y_test_reshaped, pred_xgboost)) \n",
    "mae_xgboost = mean_absolute_error(y_test_reshaped, pred_xgboost)\n",
    "r2_xgboost = r2_score(y_test_reshaped, pred_xgboost)\n",
    "\n",
    "print(\"RMSE : % f\" %(rmse_xgboost))\n",
    "print(\"MAE : % f\" %(mae_xgboost))\n",
    "print(\"R2 : % f\" %(r2_xgboost))"
   ]
  },
  {
   "cell_type": "markdown",
   "metadata": {},
   "source": [
    "### Plot"
   ]
  },
  {
   "cell_type": "code",
   "execution_count": 69,
   "metadata": {},
   "outputs": [],
   "source": [
    "y_pred_xgboost_reshaped = pred_xgboost.reshape(750, 246)"
   ]
  },
  {
   "cell_type": "code",
   "execution_count": null,
   "metadata": {},
   "outputs": [],
   "source": [
    "fig, ax = plt.subplots(1,2, figsize=(8,8), sharey=True)\n",
    "\n",
    "ax[0].plot(np.squeeze(y_test[256,:]), time_upscaled, label='Real Porosity', color='black')\n",
    "ax[0].plot(np.squeeze(y_pred_xgboost_reshaped[256,:]), time_upscaled, label='Model Porosity', color='red', linestyle='--')\n",
    "ax[0].set_ylabel('Time [s]')\n",
    "ax[0].invert_yaxis()\n",
    "ax[0].set_xlabel('Porosity [v/v]')\n",
    "\n",
    "ax[1].plot(np.squeeze(X_test[500,:]), time_upscaled)\n",
    "ax[1].set_xlabel('Seismic')\n",
    "\n",
    "ax[0].legend(loc='lower right')\n",
    "plt.plot()"
   ]
  },
  {
   "cell_type": "markdown",
   "metadata": {},
   "source": [
    "## MLP"
   ]
  },
  {
   "cell_type": "code",
   "execution_count": 71,
   "metadata": {},
   "outputs": [],
   "source": [
    "epochs=100"
   ]
  },
  {
   "cell_type": "code",
   "execution_count": null,
   "metadata": {},
   "outputs": [],
   "source": [
    "X_train.shape, y_train.shape"
   ]
  },
  {
   "cell_type": "markdown",
   "metadata": {},
   "source": [
    "### Architecture"
   ]
  },
  {
   "cell_type": "code",
   "execution_count": null,
   "metadata": {},
   "outputs": [],
   "source": [
    "model = tf.keras.models.Sequential([\n",
    "  tf.keras.layers.Dense(100, activation='tanh',input_shape=(246,)),\n",
    "  tf.keras.layers.Dense(100, activation='tanh'),\n",
    "  tf.keras.layers.Dense(100, activation='tanh'),\n",
    "  tf.keras.layers.Dense(100, activation='tanh'),\n",
    "  tf.keras.layers.Dense(246, activation='tanh'),\n",
    "])\n",
    "model.summary()"
   ]
  },
  {
   "cell_type": "code",
   "execution_count": 74,
   "metadata": {},
   "outputs": [],
   "source": [
    "model.compile(optimizer='adam',\n",
    "                    loss='mse',\n",
    "                    metrics=[R2Score()])"
   ]
  },
  {
   "cell_type": "code",
   "execution_count": 75,
   "metadata": {},
   "outputs": [],
   "source": [
    "checkpoint = tf.keras.callbacks.ModelCheckpoint('models/first_nn.weights.h5', \n",
    "                                                monitor='r2_score', \n",
    "                                                mode='max', \n",
    "                                                verbose=1, \n",
    "                                                save_weights_only=True)\n",
    "\n",
    "callback_lr = tf.keras.callbacks.ReduceLROnPlateau(monitor='r2_score', \n",
    "                                                   factor=0.5, \n",
    "                                                   patience=10, \n",
    "                                                   min_lr=0.0001)"
   ]
  },
  {
   "cell_type": "markdown",
   "metadata": {},
   "source": [
    "### Training"
   ]
  },
  {
   "cell_type": "code",
   "execution_count": null,
   "metadata": {},
   "outputs": [],
   "source": [
    "history_nn = model.fit(X_train, \n",
    "                       y_train, \n",
    "                       epochs=epochs,\n",
    "                       batch_size=10,\n",
    "                        callbacks=[checkpoint, callback_lr] )\n",
    "\n",
    "model.evaluate(X_test,  y_test, verbose=2)"
   ]
  },
  {
   "cell_type": "code",
   "execution_count": null,
   "metadata": {},
   "outputs": [],
   "source": [
    "history_nn.history.keys()"
   ]
  },
  {
   "cell_type": "code",
   "execution_count": null,
   "metadata": {},
   "outputs": [],
   "source": [
    "epochs_list = [i for i in range(epochs)]\n",
    "\n",
    "train_acc = history_nn.history['r2_score']\n",
    "train_loss = history_nn.history['loss']\n",
    "train_lr = history_nn.history['learning_rate']\n",
    "\n",
    "fig, ax = plt.subplots(1,3)\n",
    "fig.set_size_inches(16,7)\n",
    "\n",
    "ax[0].plot(epochs_list, train_acc, 'go-', label='accuracy-train')\n",
    "ax[0].set_title('Accuracy train')\n",
    "ax[0].legend()\n",
    "ax[0].set_xlabel('epochs')\n",
    "ax[0].set_ylabel('accuracy')\n",
    "ax[0].set_ylim(0,1)\n",
    "\n",
    "ax[1].plot(epochs_list, train_loss, 'go-', label='loss-train')\n",
    "ax[1].set_title('Loss train')\n",
    "ax[1].legend()\n",
    "ax[1].set_xlabel('epochs')\n",
    "ax[1].set_ylabel('loss')\n",
    "\n",
    "ax[2].plot(epochs_list, train_lr, 'go-', label='lr-train')\n",
    "ax[2].set_title('Learning Rate train')\n",
    "ax[2].legend()\n",
    "ax[2].set_xlabel('epochs')\n",
    "ax[2].set_ylabel('Learning Rate')\n",
    "\n",
    "fig.savefig('./plots/training.eps', format='eps')\n",
    "\n",
    "plt.show()"
   ]
  },
  {
   "cell_type": "markdown",
   "metadata": {},
   "source": [
    "### Metrics"
   ]
  },
  {
   "cell_type": "code",
   "execution_count": null,
   "metadata": {},
   "outputs": [],
   "source": [
    "loss, accuracy = model.evaluate(X_test, y_test)"
   ]
  },
  {
   "cell_type": "code",
   "execution_count": null,
   "metadata": {},
   "outputs": [],
   "source": [
    "y_pred_nn = model.predict(X_test)"
   ]
  },
  {
   "cell_type": "code",
   "execution_count": null,
   "metadata": {},
   "outputs": [],
   "source": [
    "rmse_nn = np.sqrt(mean_squared_error(y_test, y_pred_nn))\n",
    "MAE_nn = mean_absolute_error(y_test, y_pred_nn)\n",
    "r2_nn = r2_score(y_test, y_pred_nn)\n",
    "\n",
    "print(\"RMSE : % f\" %(rmse_nn))\n",
    "print(\"MAE : % f\" %(MAE_nn))\n",
    "print(\"R2 : % f\" %(r2_nn))"
   ]
  },
  {
   "cell_type": "markdown",
   "metadata": {},
   "source": [
    "### Plot"
   ]
  },
  {
   "cell_type": "code",
   "execution_count": null,
   "metadata": {},
   "outputs": [],
   "source": [
    "fig, ax = plt.subplots(1,2, figsize=(8,8), sharey=True)\n",
    "\n",
    "ax[0].plot(np.squeeze(y_test[256,:]), time_upscaled, label='Real Porosity', color='black')\n",
    "ax[0].plot(np.squeeze(y_pred_nn[256,:]), time_upscaled, label='Model Porosity', color='red', linestyle='--')\n",
    "ax[0].set_ylabel('Time [s]')\n",
    "ax[0].invert_yaxis()\n",
    "ax[0].set_xlabel('Porosity [v/v]')\n",
    "\n",
    "ax[1].plot(np.squeeze(X_test[500,:]), time_upscaled)\n",
    "ax[1].set_xlabel('Seismic')\n",
    "\n",
    "ax[0].legend(loc='lower right')\n",
    "\n",
    "fig.savefig('plots/resultado_cnn_seccion.eps', format='eps')"
   ]
  },
  {
   "cell_type": "markdown",
   "metadata": {},
   "source": [
    "## MLP (Normalized Data)"
   ]
  },
  {
   "cell_type": "code",
   "execution_count": null,
   "metadata": {},
   "outputs": [],
   "source": [
    "X_train_norm.min(), X_train_norm.max(), y_train_norm.min(), y_train_norm.max()"
   ]
  },
  {
   "cell_type": "markdown",
   "metadata": {},
   "source": [
    "### Training"
   ]
  },
  {
   "cell_type": "code",
   "execution_count": null,
   "metadata": {},
   "outputs": [],
   "source": [
    "model2_mlp = tf.keras.models.Sequential([\n",
    "  tf.keras.layers.Flatten(input_shape=(246,)),\n",
    "  tf.keras.layers.Dense(100, activation='tanh'),\n",
    "  tf.keras.layers.Dense(100, activation='tanh'),\n",
    "  tf.keras.layers.Dense(100, activation='tanh'),\n",
    "  tf.keras.layers.Dense(100, activation='tanh'),\n",
    "  tf.keras.layers.Dense(246, activation='tanh'),\n",
    "])\n",
    "model2_mlp.summary()"
   ]
  },
  {
   "cell_type": "code",
   "execution_count": 85,
   "metadata": {},
   "outputs": [],
   "source": [
    "model2_mlp.compile(optimizer='adam',\n",
    "                    loss='mse',\n",
    "                    metrics=[R2Score()])"
   ]
  },
  {
   "cell_type": "code",
   "execution_count": null,
   "metadata": {},
   "outputs": [],
   "source": [
    "history2_nn = model2_mlp.fit(X_train_norm, \n",
    "                       y_train_norm, \n",
    "                       epochs=epochs,\n",
    "                       batch_size=10,\n",
    "                        callbacks=[checkpoint, callback_lr] )\n",
    "\n",
    "model2_mlp.evaluate( X_test_norm,  y_test_norm, verbose=2)"
   ]
  },
  {
   "cell_type": "code",
   "execution_count": null,
   "metadata": {},
   "outputs": [],
   "source": [
    "epochs_list = [i for i in range(epochs)]\n",
    "\n",
    "train_acc = history2_nn.history['r2_score']\n",
    "train_loss = history2_nn.history['loss']\n",
    "train_lr = history_nn.history['learning_rate']\n",
    "\n",
    "fig, ax = plt.subplots(1,3)\n",
    "fig.set_size_inches(16,7)\n",
    "\n",
    "ax[0].plot(epochs_list, train_acc, 'go-', label='accuracy-train')\n",
    "ax[0].set_title('Accuracy train')\n",
    "ax[0].legend()\n",
    "ax[0].set_xlabel('epochs')\n",
    "ax[0].set_ylabel('accuracy')\n",
    "ax[0].set_ylim(0,1)\n",
    "\n",
    "ax[1].plot(epochs_list, train_loss, 'go-', label='loss-train')\n",
    "ax[1].set_title('Loss train')\n",
    "ax[1].legend()\n",
    "ax[1].set_xlabel('epochs')\n",
    "ax[1].set_ylabel('loss')\n",
    "\n",
    "ax[2].plot(epochs_list, train_lr, 'go-', label='lr-train')\n",
    "ax[2].set_title('Learning Rate train')\n",
    "ax[2].legend()\n",
    "ax[2].set_xlabel('epochs')\n",
    "ax[2].set_ylabel('Learning Rate')\n",
    "\n",
    "fig.savefig('./plots/training.eps', format='eps')\n",
    "\n",
    "plt.show()"
   ]
  },
  {
   "cell_type": "markdown",
   "metadata": {},
   "source": [
    "### Metrics"
   ]
  },
  {
   "cell_type": "code",
   "execution_count": null,
   "metadata": {},
   "outputs": [],
   "source": [
    "loss, accuracy = model2_mlp.evaluate(X_test_norm, y_test_norm)"
   ]
  },
  {
   "cell_type": "code",
   "execution_count": null,
   "metadata": {},
   "outputs": [],
   "source": [
    "y_pred_nn_norm = model2_mlp.predict(X_test_norm)"
   ]
  },
  {
   "cell_type": "code",
   "execution_count": null,
   "metadata": {},
   "outputs": [],
   "source": [
    "rmse_nn_norm = np.sqrt(mean_squared_error(y_test_norm, y_pred_nn_norm))\n",
    "MAE_nn_norm  = mean_absolute_error(y_test_norm, y_pred_nn_norm)\n",
    "r2_nn_norm  = r2_score(y_test_norm, y_pred_nn_norm)\n",
    "\n",
    "print(\"RMSE : % f\" %(rmse_nn_norm))\n",
    "print(\"MAE : % f\" %(MAE_nn_norm))\n",
    "print(\"R2 : % f\" %(r2_nn_norm))"
   ]
  },
  {
   "cell_type": "code",
   "execution_count": 91,
   "metadata": {},
   "outputs": [],
   "source": [
    "y_pred_nn_norm = inverse_min_max_scale(y_pred_nn_norm, phi_min, phi_max)"
   ]
  },
  {
   "cell_type": "markdown",
   "metadata": {},
   "source": [
    "### Plot"
   ]
  },
  {
   "cell_type": "code",
   "execution_count": null,
   "metadata": {},
   "outputs": [],
   "source": [
    "fig, ax = plt.subplots(1,2, figsize=(8,8), sharey=True)\n",
    "\n",
    "ax[0].plot(np.squeeze(y_test[256,:]), time_upscaled, label='Real Porosity', color='black')\n",
    "ax[0].plot(np.squeeze(y_pred_nn_norm[256,:]), time_upscaled, label='Model Porosity', color='red', linestyle='--')\n",
    "ax[0].set_ylabel('Time [s]')\n",
    "ax[0].invert_yaxis()\n",
    "ax[0].set_xlabel('Porosity [v/v]')\n",
    "\n",
    "\n",
    "ax[1].plot(np.squeeze(X_test[500,:]), time_upscaled)\n",
    "ax[1].set_xlabel('Seismic')\n",
    "\n",
    "\n",
    "#fig.suptitle('Comparacion entre porosidad modelada y real', y=0.9)\n",
    "ax[0].legend(loc='lower right')\n",
    "#fig.tight_layout()\n",
    "fig.savefig('plots/resultado_cnn_seccion.eps', format='eps')"
   ]
  },
  {
   "cell_type": "markdown",
   "metadata": {},
   "source": [
    "## Convolutional Neural Netowrk (CNN)"
   ]
  },
  {
   "cell_type": "code",
   "execution_count": 93,
   "metadata": {},
   "outputs": [],
   "source": [
    "X_train_final_cnn = np.expand_dims(X_train_norm, axis=-1)\n",
    "X_test_final_cnn = np.expand_dims(X_test_norm, axis=-1)"
   ]
  },
  {
   "cell_type": "code",
   "execution_count": null,
   "metadata": {},
   "outputs": [],
   "source": [
    "X_train_final_cnn.shape, X_test_final_cnn.shape"
   ]
  },
  {
   "cell_type": "code",
   "execution_count": null,
   "metadata": {},
   "outputs": [],
   "source": [
    "y_train_norm.shape, y_test_norm.shape"
   ]
  },
  {
   "cell_type": "code",
   "execution_count": null,
   "metadata": {},
   "outputs": [],
   "source": [
    "X_train_final_cnn.min(), X_train_final_cnn.max(), y_train_norm.min(), y_train_norm.max()"
   ]
  },
  {
   "cell_type": "markdown",
   "metadata": {},
   "source": [
    "### Architecture"
   ]
  },
  {
   "cell_type": "code",
   "execution_count": null,
   "metadata": {},
   "outputs": [],
   "source": [
    "given_seed = 13\n",
    "def naive_model():\n",
    "    \"\"\"El input shape de tal forma sería entonces (1, 246) ya que son trazas sismicas, 2000 de ellas\"\"\"\n",
    "\n",
    "    model_phi = tf.keras.models.Sequential()\n",
    "    \n",
    "    model_phi.add(Conv1D(input_shape=(246,1), filters=32, kernel_size=2, strides=2, padding='same',kernel_initializer=initializers.he_uniform(seed=given_seed), bias_initializer='zeros')) \n",
    "    model_phi.add(Activation('relu'))\n",
    "    \n",
    "    model_phi.add(Conv1D(filters=64, kernel_size=7, strides=2, padding='same',kernel_initializer=initializers.he_uniform(seed=given_seed), bias_initializer='zeros')) \n",
    "    model_phi.add(Activation('relu'))\n",
    "    \n",
    "    model_phi.add(Conv1D(filters=128, kernel_size=15, strides=2, padding='same',kernel_initializer=initializers.he_uniform(seed=given_seed), bias_initializer='zeros')) \n",
    "    model_phi.add(Activation('relu'))\n",
    "    \n",
    "    model_phi.add(Conv1D(filters=256, kernel_size=30, strides=2, padding='same',kernel_initializer=initializers.he_uniform(seed=given_seed), bias_initializer='zeros')) \n",
    "    model_phi.add(Activation('relu'))\n",
    "    \n",
    "    model_phi.add(tf.keras.layers.Dropout(rate=0.3))\n",
    "    \n",
    "\n",
    "    model_phi.add(Flatten())\n",
    " \n",
    "    \n",
    "    model_phi.add(Dense(units=246,kernel_initializer=initializers.he_uniform(seed=given_seed), bias_initializer='zeros'))\n",
    "    model_phi.add(Activation('tanh'))\n",
    "\n",
    "    return model_phi\n",
    "model_phi = naive_model()\n",
    "model_phi.summary()"
   ]
  },
  {
   "cell_type": "code",
   "execution_count": null,
   "metadata": {},
   "outputs": [],
   "source": [
    "tf.keras.utils.plot_model(model_phi, show_shapes=True, dpi=72, to_file='model.png')"
   ]
  },
  {
   "cell_type": "code",
   "execution_count": 99,
   "metadata": {},
   "outputs": [],
   "source": [
    "optimizer = tf.keras.optimizers.Adam()\n",
    "\n",
    "model_phi.compile(optimizer=optimizer,\n",
    "                    loss='mse',\n",
    "                    metrics=[R2Score()])"
   ]
  },
  {
   "cell_type": "code",
   "execution_count": 100,
   "metadata": {},
   "outputs": [],
   "source": [
    "#callback_early = tf.keras.callbacks.EarlyStopping(monitor='loss', patience=5, mode='auto')\n",
    "checkpoint = tf.keras.callbacks.ModelCheckpoint('models/first_cnn.weights.h5', \n",
    "                                                monitor='r2_nicolas', \n",
    "                                                mode='max', \n",
    "                                                verbose=1, \n",
    "                                                save_weights_only=True)\n",
    "\n",
    "callback_lr = tf.keras.callbacks.ReduceLROnPlateau(monitor='r2_nicolas', \n",
    "                                                   factor=0.5, \n",
    "                                                   patience=10, \n",
    "                                                   min_lr=0.0001)"
   ]
  },
  {
   "cell_type": "markdown",
   "metadata": {},
   "source": [
    "### Training"
   ]
  },
  {
   "cell_type": "code",
   "execution_count": null,
   "metadata": {},
   "outputs": [],
   "source": [
    "history_early = model_phi.fit(x=X_train_final_cnn, \n",
    "                                y=y_train_norm,\n",
    "                                epochs=epochs,\n",
    "                                batch_size=10,\n",
    "                                callbacks=[checkpoint, callback_lr]                         \n",
    "                                )"
   ]
  },
  {
   "cell_type": "markdown",
   "metadata": {},
   "source": [
    "### Metrics"
   ]
  },
  {
   "cell_type": "code",
   "execution_count": null,
   "metadata": {},
   "outputs": [],
   "source": [
    "epochs_list = [i for i in range(epochs)]\n",
    "\n",
    "train_acc = history_early.history['r2_score']\n",
    "train_loss = history_early.history['loss']\n",
    "train_lr = history_early.history['learning_rate']\n",
    "\n",
    "fig, ax = plt.subplots(1,3)\n",
    "fig.set_size_inches(16,7)\n",
    "\n",
    "ax[0].plot(epochs_list, train_acc, 'go-', label='accuracy-train')\n",
    "ax[0].set_title('Accuracy train')\n",
    "ax[0].legend()\n",
    "ax[0].set_xlabel('epochs')\n",
    "ax[0].set_ylabel('accuracy')\n",
    "ax[0].set_ylim(0,1)\n",
    "\n",
    "ax[1].plot(epochs_list, train_loss, 'go-', label='loss-train')\n",
    "ax[1].set_title('Loss train')\n",
    "ax[1].legend()\n",
    "ax[1].set_xlabel('epochs')\n",
    "ax[1].set_ylabel('loss')\n",
    "\n",
    "ax[2].plot(epochs_list, train_lr, 'go-', label='lr-train')\n",
    "ax[2].set_title('Learning Rate train')\n",
    "ax[2].legend()\n",
    "ax[2].set_xlabel('epochs')\n",
    "ax[2].set_ylabel('Learning Rate')\n",
    "\n",
    "fig.savefig('./plots/training.eps', format='eps')\n",
    "\n",
    "plt.show()"
   ]
  },
  {
   "cell_type": "code",
   "execution_count": null,
   "metadata": {},
   "outputs": [],
   "source": [
    "loss, accuracy = model_phi.evaluate(X_test_final_cnn, y_test_norm)"
   ]
  },
  {
   "cell_type": "code",
   "execution_count": null,
   "metadata": {},
   "outputs": [],
   "source": [
    "y_pred_cnn = model_phi.predict(X_test_final_cnn)"
   ]
  },
  {
   "cell_type": "code",
   "execution_count": null,
   "metadata": {},
   "outputs": [],
   "source": [
    "rmse_cnn = np.sqrt(mean_squared_error(y_test_norm, y_pred_cnn))\n",
    "MAE_cnn = mean_absolute_error(y_test_norm, y_pred_cnn)\n",
    "r2_cnn = r2_score(y_test_norm, y_pred_cnn)\n",
    "\n",
    "print(\"RMSE : % f\" %(rmse_cnn))\n",
    "print(\"MAE : % f\" %(MAE_cnn))\n",
    "print(\"R2 : % f\" %(r2_cnn))"
   ]
  },
  {
   "cell_type": "code",
   "execution_count": 106,
   "metadata": {},
   "outputs": [],
   "source": [
    "y_pred_cnn = inverse_min_max_scale(y_pred_cnn, phi_min, phi_max)"
   ]
  },
  {
   "cell_type": "markdown",
   "metadata": {},
   "source": [
    "### Plot"
   ]
  },
  {
   "cell_type": "code",
   "execution_count": null,
   "metadata": {},
   "outputs": [],
   "source": [
    "fig, ax = plt.subplots(1,2, figsize=(8,8), sharey=True)\n",
    "\n",
    "ax[0].plot(np.squeeze(y_test[256,:]), time_upscaled, label='Real Porosity', color='black')\n",
    "ax[0].plot(np.squeeze(y_pred_cnn[256,:]), time_upscaled, label='Model Porosity', color='red', linestyle='--')\n",
    "ax[0].set_ylabel('Time [s]')\n",
    "ax[0].invert_yaxis()\n",
    "ax[0].set_xlabel('Porosity [v/v]')\n",
    "\n",
    "ax[1].plot(np.squeeze(X_test[500,:]), time_upscaled)\n",
    "ax[1].set_xlabel('Seismic')\n",
    "\n",
    "ax[0].legend(loc='lower right')\n",
    "\n",
    "fig.savefig('plots/resultado_cnn_seccion.eps', format='eps')"
   ]
  },
  {
   "cell_type": "markdown",
   "metadata": {},
   "source": [
    "# Final Results"
   ]
  },
  {
   "cell_type": "code",
   "execution_count": 108,
   "metadata": {},
   "outputs": [],
   "source": [
    "plt.rcParams['legend.frameon'] = True\n",
    "plt.rcParams['legend.facecolor'] = 'white'\n",
    "plt.rcParams['legend.edgecolor'] = 'black'\n",
    "plt.rcParams['legend.framealpha'] = 1\n",
    "plt.rcParams['legend.fancybox'] = False  # Disable rounded corners\n",
    "plt.rcParams['legend.borderaxespad'] = 0.5  # Adjust if needed"
   ]
  },
  {
   "cell_type": "code",
   "execution_count": 109,
   "metadata": {},
   "outputs": [],
   "source": [
    "y_predict_linear = lin_reg.predict(X_test[256,:].reshape(-1,1))\n",
    "\n",
    "poly_features_final = poly.fit_transform(X_test[256,:].reshape(-1, 1))\n",
    "y_predict_quadratic = poly_reg_model.predict(poly_features)\n",
    "\n",
    "y_predict_tree = dtr.predict(X_test[256,:].reshape(-1, 1))"
   ]
  },
  {
   "cell_type": "code",
   "execution_count": null,
   "metadata": {},
   "outputs": [],
   "source": [
    "fig, ax = plt.subplots(1,7, figsize=(15,8), sharey=True, sharex=True)\n",
    "\n",
    "ax[0].plot(np.squeeze(y_test[256,:]), time_upscaled, label='Ground Truth Porosity', color='black')\n",
    "ax[0].plot(np.squeeze(y_predict_linear), time_upscaled, label='Model Porosity', color='red', linestyle='--')\n",
    "ax[0].set_ylabel('Time [s]')\n",
    "ax[0].invert_yaxis()\n",
    "ax[0].set_title('Linear Model', fontsize=12)\n",
    "\n",
    "ax[1].plot(np.squeeze(y_test[256,:]), time_upscaled, label='Ground Truth Porosity', color='black')\n",
    "ax[1].plot(np.squeeze(y_predict_quadratic), time_upscaled, label='Predicted Porosity', color='red', linestyle='--')\n",
    "ax[1].set_title('Quadratic\\nModel', fontsize=12)\n",
    "\n",
    "ax[2].plot(np.squeeze(y_test[256,:]), time_upscaled, label='Ground Truth Porosity', color='black')\n",
    "ax[2].plot(np.squeeze(y_predict_tree), time_upscaled, label='Predicted Porosity', color='red', linestyle='--')\n",
    "ax[2].set_title('Decision Tree\\nModel', fontsize=12)\n",
    "\n",
    "\n",
    "ax[3].plot(np.squeeze(y_test[256,:]), time_upscaled, label='Ground Truth Porosity', color='black')\n",
    "ax[3].plot(np.squeeze(y_pred_xgboost_reshaped[256,:]), time_upscaled, label='Predicted Porosity', color='red', linestyle='--')\n",
    "ax[3].set_title('XGBoost\\nModel', fontsize=12)\n",
    "\n",
    "ax[4].plot(np.squeeze(y_test[256,:]), time_upscaled, label='Ground Truth Porosity', color='black')\n",
    "ax[4].plot(np.squeeze(y_pred_nn[256,:]), time_upscaled, label='Predicted Porosity', color='red', linestyle='--')\n",
    "ax[4].set_title('Multi Layer\\nPercepton Model', fontsize=12)\n",
    "\n",
    "ax[5].plot(np.squeeze(y_test[256,:]), time_upscaled, label='Ground Truth Porosity', color='black')\n",
    "ax[5].plot(np.squeeze(y_pred_nn_norm[256,:]), time_upscaled, label='Predicted Porosity', color='red', linestyle='--')\n",
    "ax[5].set_title('MLP Normalized\\nData', fontsize=12)\n",
    "\n",
    "ax[6].plot(np.squeeze(y_test[256,:]), time_upscaled, label='Ground Truth Porosity', color='black')\n",
    "ax[6].plot(np.squeeze(y_pred_cnn[256,:]), time_upscaled, label='Predicted Porosity', color='red', linestyle='--')\n",
    "ax[6].set_title('CNN Model', fontsize=12)\n",
    "\n",
    "fig.suptitle('Machine Learning Models')\n",
    "fig.text(0.5, 0.07, 'Porosity [v/v]', ha='center', va='center')\n",
    "\n",
    "# Customize the legend\n",
    "legend = ax[6].legend(loc='lower left', bbox_to_anchor=(-0.5, 0))\n",
    "legend.get_frame().set_facecolor('white')  # Set background to white\n",
    "legend.get_frame().set_alpha(1)  # Remove transparency\n",
    "legend.get_frame().set_edgecolor('black')  # Set edge color to black\n",
    "legend.get_frame().set_linewidth(1)  # Set line width to 1\n",
    "\n",
    "plt.show()\n",
    "fig.savefig('plots/compiled_result.eps', format='eps')"
   ]
  },
  {
   "cell_type": "markdown",
   "metadata": {},
   "source": [
    "# Table"
   ]
  },
  {
   "cell_type": "code",
   "execution_count": null,
   "metadata": {},
   "outputs": [],
   "source": [
    "metodo = {'Method': ['LR', 'QR', 'DT', 'DT (Full Dataset)', 'XGBoost', 'MLP', 'MLP (Normalized)','CNN'],\n",
    "            'R-Squared':[r2_rl, r2_quadratic, r2_dtr_test_1well, r2_dtr_test, r2_xgboost, r2_nn, r2_nn_norm, r2_cnn],\n",
    "            'MSE':[rmse_rl, rmse_quadratic, rmse_dtr_test_1well, rmse_dtr_test, rmse_xgboost, rmse_nn, rmse_nn_norm, rmse_cnn],\n",
    "            'MAE':[MAE_rl, MAE_quadratic, MAE_dtr_test_1well, MAE_dtr_test, mae_xgboost, MAE_nn, MAE_nn_norm, MAE_cnn]\n",
    "          }\n",
    "\n",
    "df_ml_techniques = pd.DataFrame(data=metodo)\n",
    "df_ml_techniques"
   ]
  },
  {
   "cell_type": "code",
   "execution_count": null,
   "metadata": {},
   "outputs": [],
   "source": [
    "latex_table = df_ml_techniques.to_latex(index=False, float_format=\"%.3f\")\n",
    "print(latex_table)"
   ]
  }
 ],
 "metadata": {
  "kernelspec": {
   "display_name": ".tesisenv",
   "language": "python",
   "name": "python3"
  },
  "language_info": {
   "codemirror_mode": {
    "name": "ipython",
    "version": 3
   },
   "file_extension": ".py",
   "mimetype": "text/x-python",
   "name": "python",
   "nbconvert_exporter": "python",
   "pygments_lexer": "ipython3",
   "version": "3.9.20"
  }
 },
 "nbformat": 4,
 "nbformat_minor": 2
}
